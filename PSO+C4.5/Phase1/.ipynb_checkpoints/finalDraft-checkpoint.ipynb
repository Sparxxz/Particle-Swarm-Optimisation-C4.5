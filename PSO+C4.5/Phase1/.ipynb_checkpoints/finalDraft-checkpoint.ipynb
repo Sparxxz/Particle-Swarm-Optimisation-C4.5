{
 "cells": [
  {
   "cell_type": "code",
   "execution_count": 29,
   "metadata": {},
   "outputs": [],
   "source": [
    "from sklearn.tree import DecisionTreeClassifier\n",
    "import pandas as pd"
   ]
  },
  {
   "cell_type": "markdown",
   "metadata": {},
   "source": [
    "# Particles"
   ]
  },
  {
   "cell_type": "code",
   "execution_count": 30,
   "metadata": {},
   "outputs": [],
   "source": [
    "import numpy as np, random, math\n",
    "\n",
    "class Particle:\n",
    "\n",
    "        def __init__(self, size):\n",
    "            self.position = np.array([random.choice((0, 1)) for _ in range(size)])\n",
    "            self.velocity = np.array([random.uniform(0, 1) for _ in range(size)])\n",
    "            self.best = 0\n",
    "            self.currBest = 0\n",
    "            self.currBestPosition = self.position\n",
    "            self.inertiaWeight = random.uniform(0, 1)\n",
    "\n",
    "        def update_velocity(self, c1, c2, particleBestPosition):\n",
    "            self.velocity = np.array([self.calculate_velocity(v, c1, c2, px, pbx, x) for v, px, x, pbx in zip(self.velocity, self.position, self.currBestPosition, particleBestPosition)])\n",
    "\n",
    "        def update_position(self):\n",
    "            self.position = np.array([(1 if self.sigmoid(v) > random.uniform(0, 1) else 0) for v in self.velocity])\n",
    "\n",
    "        def calculate_velocity(self, v0, c1, c2, px, pbx, x):\n",
    "            return self.inertiaWeight * v0 + c1 * random.uniform(0, 1) * (px - pbx) + c2 * random.uniform(0, 1) * (px - x)\n",
    "\n",
    "        def sigmoid(self, v):\n",
    "            if v < 0:\n",
    "                return 1 - (1 / (1 + math.exp(-v)))\n",
    "            return 1 / (1 + math.exp(-v))\n",
    "\n",
    "#         def calculate_best(self, train, test):\n",
    "#             pos = self.position.astype(bool)\n",
    "# #             tfidf = TFIDF(train[\"Review\"])\n",
    "# #             tfidf.weights = tfidf.remove_zero_tfidf(tfidf.weights, 0.5)\n",
    "# #             tfidf.termIndex = {key:val for i, (key, val) in enumerate(tfidf.termIndex.items()) if pos[i] == True}\n",
    "# #             print(f\"Selected attributes: {len(tfidf.termIndex)}\")\n",
    "#             clf = C45(tfidf, train)\n",
    "#             clf.train()\n",
    "#             self.best = clf.score(tfidf, test)\n",
    "#             return self.best\n",
    "        def calculate_best(self, xtrain,ytrain, xtest, ytest):\n",
    "            pos = self.position.astype(bool)\n",
    "            x_train=dataFrame(pos,xtrain)\n",
    "            y_train=ytrain.values\n",
    "            x_test=dataFrame(pos,xtest)\n",
    "            y_test=ytest.values\n",
    "            clf = DecisionTreeClassifier()\n",
    "            clf.fit(x_train,y_train)\n",
    "            self.best = clf.score(x_test,y_test)\n",
    "            return self.best\n",
    "\n",
    "        def tent_map(self):\n",
    "            if self.inertiaWeight < 0.7:\n",
    "                self.inertiaWeight = self.inertiaWeight / 0.7\n",
    "            else:\n",
    "                self.inertiaWeight = (10 / 3) * (self.inertiaWeight * (1 - self.inertiaWeight))\n",
    "            return self.inertiaWeight"
   ]
  },
  {
   "cell_type": "markdown",
   "metadata": {},
   "source": [
    "# PSO"
   ]
  },
  {
   "cell_type": "code",
   "execution_count": 31,
   "metadata": {},
   "outputs": [],
   "source": [
    "import random\n",
    "\n",
    "class PSO:\n",
    "        def __init__(self, particleSize, populationSize, numIteration, c1, c2, target):\n",
    "            self.particleSize = particleSize\n",
    "            self.populationSize = populationSize\n",
    "            self.numIteration = numIteration\n",
    "            self.c1 = c1\n",
    "            self.c2 = c2\n",
    "            self.target = target\n",
    "            self.particles = [Particle(self.particleSize) for _ in range(self.populationSize)]\n",
    "            self.iterationBest = []\n",
    "\n",
    "        def exec(self, xtrain, ytrain, xtest, ytest):\n",
    "            for _ in range(self.numIteration):\n",
    "                for i in range(self.populationSize):\n",
    "                    print(self.particles[i].position)\n",
    "                    b = self.particles[i].calculate_best(xtrain, ytrain, xtest, ytest)\n",
    "                    print(f\"Iter-{_} Particle-{i} best: {b}\")\n",
    "                    self.particles[i].tent_map()\n",
    "\n",
    "                self.particles = sorted(self.particles, key=lambda particle: particle.best, reverse=True)\n",
    "                self.iterationBest.append(self.particles[0])\n",
    "                print(f\"Target: {self.target}\")\n",
    "                print(f\"Iteration {_} best: {self.particles[0].best}\")\n",
    "                if self.particles[0].best > self.target:\n",
    "                    return self.particles[0]\n",
    "\n",
    "                for i in range(self.populationSize):\n",
    "                    self.particles[i].update_velocity(self.c1, self.c2, self.particles[0].position)\n",
    "                    self.particles[i].update_position()\n",
    "            self.iterationBest = sorted(self.iterationBest, key=lambda particle: particle.best, reverse=True)\n",
    "            return self.iterationBest[0]"
   ]
  },
  {
   "cell_type": "code",
   "execution_count": 32,
   "metadata": {},
   "outputs": [],
   "source": [
    "def dataFrame(pos,df):\n",
    "    df=df.loc[:,pos==True]\n",
    "    return df.values"
   ]
  },
  {
   "cell_type": "code",
   "execution_count": 56,
   "metadata": {},
   "outputs": [],
   "source": [
    "def optimize_model(xtrain,ytrain, xtest, ytest):\n",
    "    results = []\n",
    "  \n",
    "    particleSize = xtrain.shape[1]\n",
    "    popSize=xtrain.shape[0]\n",
    "    numIteration=2\n",
    "    c1=2\n",
    "    c2=2\n",
    "    target=0.98\n",
    "    pso = PSO(particleSize, popSize, numIteration, c1, c2,target)\n",
    "    bestParticle = pso.exec(xtrain,ytrain, xtest, ytest)\n",
    "    results.append(bestParticle)\n",
    "    print(bestParticle)\n",
    "\n",
    "    return results\n"
   ]
  },
  {
   "cell_type": "code",
   "execution_count": 34,
   "metadata": {},
   "outputs": [
    {
     "data": {
      "text/plain": [
       "(38, 7130)"
      ]
     },
     "execution_count": 34,
     "metadata": {},
     "output_type": "execute_result"
    }
   ],
   "source": [
    "xtrain=pd.read_csv('xtrain.csv',delimiter=',')\n",
    "ytrain=pd.read_csv('ytrain.csv',delimiter=',')\n",
    "xtest=pd.read_csv('xtest.csv',delimiter=',')\n",
    "ytest=pd.read_csv('ytest.csv',delimiter=',')\n",
    "xtrain.shape\n",
    "#xtest.head()\n",
    "#ytrain"
   ]
  },
  {
   "cell_type": "code",
   "execution_count": 35,
   "metadata": {},
   "outputs": [
    {
     "data": {
      "text/plain": [
       "((38, 7130), (34, 7130), (38, 3), (34, 3))"
      ]
     },
     "execution_count": 35,
     "metadata": {},
     "output_type": "execute_result"
    }
   ],
   "source": [
    "xtrain.shape,xtest.shape,ytrain.shape,ytest.shape"
   ]
  },
  {
   "cell_type": "code",
   "execution_count": 36,
   "metadata": {},
   "outputs": [
    {
     "data": {
      "text/plain": [
       "((38, 7129), (34, 7129))"
      ]
     },
     "execution_count": 36,
     "metadata": {},
     "output_type": "execute_result"
    }
   ],
   "source": [
    "xtrain=xtrain.iloc[:,1:]\n",
    "xtest=xtest.iloc[:,1:]\n",
    "xtrain.shape,xtest.shape"
   ]
  },
  {
   "cell_type": "code",
   "execution_count": 37,
   "metadata": {},
   "outputs": [],
   "source": [
    "ytrain=ytrain['cancer']\n",
    "ytrain = ytrain.replace({'ALL':0,'AML':1})\n",
    "ytest=ytest['cancer']\n",
    "ytest = ytest.replace({'ALL':0,'AML':1})"
   ]
  },
  {
   "cell_type": "code",
   "execution_count": 38,
   "metadata": {},
   "outputs": [
    {
     "data": {
      "text/plain": [
       "((38, 7129), (34, 7129), (38,), (34,))"
      ]
     },
     "execution_count": 38,
     "metadata": {},
     "output_type": "execute_result"
    }
   ],
   "source": [
    "xtrain.shape,xtest.shape,ytrain.shape,ytest.shape"
   ]
  },
  {
   "cell_type": "code",
   "execution_count": 57,
   "metadata": {},
   "outputs": [
    {
     "name": "stdout",
     "output_type": "stream",
     "text": [
      "[0 0 0 ... 0 1 0]\n",
      "Iter-0 Particle-0 best: 0.6176470588235294\n",
      "[0 0 0 ... 0 0 1]\n",
      "Iter-0 Particle-1 best: 0.5882352941176471\n",
      "[0 0 0 ... 1 0 1]\n",
      "Iter-0 Particle-2 best: 0.6176470588235294\n",
      "[0 1 1 ... 0 0 0]\n",
      "Iter-0 Particle-3 best: 0.5882352941176471\n",
      "[1 0 0 ... 0 0 1]\n",
      "Iter-0 Particle-4 best: 0.5882352941176471\n",
      "[1 0 1 ... 1 0 1]\n",
      "Iter-0 Particle-5 best: 0.6176470588235294\n",
      "[0 1 0 ... 1 1 1]\n",
      "Iter-0 Particle-6 best: 0.6176470588235294\n",
      "[1 1 0 ... 0 1 0]\n",
      "Iter-0 Particle-7 best: 0.6176470588235294\n",
      "[1 0 0 ... 1 1 0]\n",
      "Iter-0 Particle-8 best: 0.6176470588235294\n",
      "[1 1 0 ... 1 0 1]\n",
      "Iter-0 Particle-9 best: 0.6176470588235294\n",
      "[0 0 1 ... 1 0 1]\n",
      "Iter-0 Particle-10 best: 0.6176470588235294\n",
      "[1 1 0 ... 1 0 0]\n",
      "Iter-0 Particle-11 best: 0.5882352941176471\n",
      "[0 1 0 ... 0 0 0]\n",
      "Iter-0 Particle-12 best: 0.47058823529411764\n",
      "[0 0 0 ... 0 0 0]\n",
      "Iter-0 Particle-13 best: 0.5882352941176471\n",
      "[1 0 1 ... 0 0 0]\n",
      "Iter-0 Particle-14 best: 0.6470588235294118\n",
      "[0 1 0 ... 0 0 0]\n",
      "Iter-0 Particle-15 best: 0.6176470588235294\n",
      "[0 1 1 ... 0 1 0]\n",
      "Iter-0 Particle-16 best: 0.6176470588235294\n",
      "[1 1 0 ... 0 1 1]\n",
      "Iter-0 Particle-17 best: 0.6176470588235294\n",
      "[0 0 0 ... 0 0 1]\n",
      "Iter-0 Particle-18 best: 0.6176470588235294\n",
      "[0 1 1 ... 1 0 1]\n",
      "Iter-0 Particle-19 best: 0.6470588235294118\n",
      "[0 1 0 ... 1 0 0]\n",
      "Iter-0 Particle-20 best: 0.6176470588235294\n",
      "[0 0 1 ... 1 0 1]\n",
      "Iter-0 Particle-21 best: 0.6470588235294118\n",
      "[1 1 1 ... 1 1 0]\n",
      "Iter-0 Particle-22 best: 0.6176470588235294\n",
      "[0 0 1 ... 1 1 0]\n",
      "Iter-0 Particle-23 best: 0.5882352941176471\n",
      "[0 1 1 ... 0 0 1]\n",
      "Iter-0 Particle-24 best: 0.6176470588235294\n",
      "[1 1 1 ... 0 1 0]\n",
      "Iter-0 Particle-25 best: 0.6176470588235294\n",
      "[1 1 0 ... 1 1 1]\n",
      "Iter-0 Particle-26 best: 0.6176470588235294\n",
      "[0 0 1 ... 1 0 0]\n",
      "Iter-0 Particle-27 best: 0.5882352941176471\n",
      "[1 0 0 ... 0 1 1]\n",
      "Iter-0 Particle-28 best: 0.6470588235294118\n",
      "[0 0 0 ... 0 0 0]\n",
      "Iter-0 Particle-29 best: 0.6176470588235294\n",
      "[1 0 0 ... 1 1 0]\n",
      "Iter-0 Particle-30 best: 0.6176470588235294\n",
      "[1 0 0 ... 0 1 0]\n",
      "Iter-0 Particle-31 best: 0.6176470588235294\n",
      "[0 0 0 ... 1 1 0]\n",
      "Iter-0 Particle-32 best: 0.6176470588235294\n",
      "[0 0 1 ... 1 0 1]\n",
      "Iter-0 Particle-33 best: 0.6176470588235294\n",
      "[1 0 0 ... 0 1 1]\n",
      "Iter-0 Particle-34 best: 0.38235294117647056\n",
      "[1 0 1 ... 0 0 0]\n",
      "Iter-0 Particle-35 best: 0.6176470588235294\n",
      "[1 1 1 ... 0 1 1]\n",
      "Iter-0 Particle-36 best: 0.6176470588235294\n",
      "[0 0 0 ... 0 0 0]\n",
      "Iter-0 Particle-37 best: 0.6176470588235294\n",
      "Target: 0.98\n",
      "Iteration 0 best: 0.6470588235294118\n",
      "[1 1 0 ... 0 0 1]\n",
      "Iter-1 Particle-0 best: 0.6176470588235294\n",
      "[0 1 1 ... 1 0 0]\n",
      "Iter-1 Particle-1 best: 0.6176470588235294\n",
      "[1 1 1 ... 1 1 1]\n",
      "Iter-1 Particle-2 best: 0.6176470588235294\n",
      "[0 1 1 ... 0 1 0]\n",
      "Iter-1 Particle-3 best: 0.6176470588235294\n",
      "[1 0 1 ... 0 1 1]\n",
      "Iter-1 Particle-4 best: 0.5882352941176471\n",
      "[1 1 0 ... 1 1 0]\n",
      "Iter-1 Particle-5 best: 0.6176470588235294\n",
      "[1 0 1 ... 0 1 0]\n",
      "Iter-1 Particle-6 best: 0.6176470588235294\n",
      "[1 0 0 ... 0 0 1]\n",
      "Iter-1 Particle-7 best: 0.6176470588235294\n",
      "[1 1 1 ... 1 1 1]\n",
      "Iter-1 Particle-8 best: 0.6176470588235294\n",
      "[1 1 0 ... 1 1 0]\n",
      "Iter-1 Particle-9 best: 0.6176470588235294\n",
      "[0 0 1 ... 1 0 1]\n",
      "Iter-1 Particle-10 best: 0.6470588235294118\n",
      "[0 1 1 ... 1 1 1]\n",
      "Iter-1 Particle-11 best: 0.6176470588235294\n",
      "[1 0 1 ... 0 0 0]\n",
      "Iter-1 Particle-12 best: 0.6176470588235294\n",
      "[0 1 1 ... 1 1 1]\n",
      "Iter-1 Particle-13 best: 0.6176470588235294\n",
      "[1 1 0 ... 0 0 0]\n",
      "Iter-1 Particle-14 best: 0.6176470588235294\n",
      "[1 0 0 ... 1 1 0]\n",
      "Iter-1 Particle-15 best: 0.5882352941176471\n",
      "[1 1 1 ... 0 1 1]\n",
      "Iter-1 Particle-16 best: 0.6176470588235294\n",
      "[0 0 1 ... 0 1 1]\n",
      "Iter-1 Particle-17 best: 0.6176470588235294\n",
      "[0 1 1 ... 1 1 1]\n",
      "Iter-1 Particle-18 best: 0.6176470588235294\n",
      "[1 0 1 ... 0 0 1]\n",
      "Iter-1 Particle-19 best: 0.6176470588235294\n",
      "[1 0 1 ... 1 0 1]\n",
      "Iter-1 Particle-20 best: 0.6176470588235294\n",
      "[1 1 1 ... 1 1 1]\n",
      "Iter-1 Particle-21 best: 0.6176470588235294\n",
      "[1 1 1 ... 1 0 1]\n",
      "Iter-1 Particle-22 best: 0.6176470588235294\n",
      "[1 1 0 ... 1 0 1]\n",
      "Iter-1 Particle-23 best: 0.6176470588235294\n",
      "[1 1 1 ... 1 0 1]\n",
      "Iter-1 Particle-24 best: 0.6176470588235294\n",
      "[1 1 1 ... 1 1 1]\n",
      "Iter-1 Particle-25 best: 0.6176470588235294\n",
      "[1 0 1 ... 1 1 1]\n",
      "Iter-1 Particle-26 best: 0.6176470588235294\n",
      "[1 0 0 ... 1 1 1]\n",
      "Iter-1 Particle-27 best: 0.5588235294117647\n",
      "[1 1 1 ... 0 1 1]\n",
      "Iter-1 Particle-28 best: 0.6176470588235294\n",
      "[0 1 0 ... 0 0 0]\n",
      "Iter-1 Particle-29 best: 0.6470588235294118\n",
      "[1 1 1 ... 1 1 1]\n",
      "Iter-1 Particle-30 best: 0.6176470588235294\n",
      "[0 0 0 ... 0 1 1]\n",
      "Iter-1 Particle-31 best: 0.6176470588235294\n",
      "[0 1 0 ... 1 0 1]\n",
      "Iter-1 Particle-32 best: 0.6176470588235294\n",
      "[1 1 1 ... 1 0 1]\n",
      "Iter-1 Particle-33 best: 0.6176470588235294\n",
      "[1 1 0 ... 1 1 1]\n",
      "Iter-1 Particle-34 best: 0.6176470588235294\n",
      "[0 1 0 ... 1 1 0]\n",
      "Iter-1 Particle-35 best: 0.6176470588235294\n",
      "[1 0 1 ... 1 1 1]\n",
      "Iter-1 Particle-36 best: 0.6176470588235294\n",
      "[0 1 0 ... 1 1 1]\n",
      "Iter-1 Particle-37 best: 0.6176470588235294\n",
      "Target: 0.98\n",
      "Iteration 1 best: 0.6470588235294118\n",
      "<__main__.Particle object at 0x000001AD9F6CDAC8>\n",
      "[<__main__.Particle object at 0x000001AD9F6CDAC8>]\n"
     ]
    }
   ],
   "source": [
    "if __name__ == '__main__':\n",
    "    resu=optimize_model(xtrain,ytrain, xtest, ytest)\n",
    "    print(resu)"
   ]
  },
  {
   "cell_type": "code",
   "execution_count": 50,
   "metadata": {},
   "outputs": [
    {
     "data": {
      "text/plain": [
       "[<__main__.Particle at 0x1ad9f6cb828>]"
      ]
     },
     "execution_count": 50,
     "metadata": {},
     "output_type": "execute_result"
    }
   ],
   "source": [
    "resu\n"
   ]
  }
 ],
 "metadata": {
  "kernelspec": {
   "display_name": "Python 3",
   "language": "python",
   "name": "python3"
  },
  "language_info": {
   "codemirror_mode": {
    "name": "ipython",
    "version": 3
   },
   "file_extension": ".py",
   "mimetype": "text/x-python",
   "name": "python",
   "nbconvert_exporter": "python",
   "pygments_lexer": "ipython3",
   "version": "3.6.4"
  }
 },
 "nbformat": 4,
 "nbformat_minor": 2
}
